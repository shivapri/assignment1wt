{
  "nbformat": 4,
  "nbformat_minor": 0,
  "metadata": {
    "colab": {
      "name": "Untitled6.ipynb",
      "provenance": [],
      "authorship_tag": "ABX9TyNz9PhGXSg4Ws+7mhi19PIr",
      "include_colab_link": true
    },
    "kernelspec": {
      "name": "python3",
      "display_name": "Python 3"
    }
  },
  "cells": [
    {
      "cell_type": "markdown",
      "metadata": {
        "id": "view-in-github",
        "colab_type": "text"
      },
      "source": [
        "<a href=\"https://colab.research.google.com/github/shivapri/assignment1wt/blob/master/assignment1.ipynb\" target=\"_parent\"><img src=\"https://colab.research.google.com/assets/colab-badge.svg\" alt=\"Open In Colab\"/></a>"
      ]
    },
    {
      "cell_type": "code",
      "metadata": {
        "id": "EtPwQNJ9Dh5U",
        "colab_type": "code",
        "colab": {
          "base_uri": "https://localhost:8080/",
          "height": 331
        },
        "outputId": "46647bb0-46a1-486f-8989-963d87a74188"
      },
      "source": [
        "import gym\n",
        "import numpy as np\n",
        "import time\n",
        "\n",
        "env = gym.make('FrozenLake-v0')\n",
        "STATES = env.observation_space.n\n",
        "ACTIONS = env.action_space.n\n",
        "\n",
        "Q = np.zeros((STATES, ACTIONS))\n",
        "\n",
        "EPISODES = 1500 \n",
        "MAX_STEPS = 100  \n",
        "LEARNING_RATE = 0.81  \n",
        "GAMMA = 0.96\n",
        "\n",
        "RENDER = False \n",
        "\n",
        "epsilon = 0.9\n",
        "rewards = []\n",
        "for episode in range(EPISODES):\n",
        "\n",
        "  state = env.reset()\n",
        "  for _ in range(MAX_STEPS):\n",
        "    \n",
        "    if RENDER:\n",
        "      env.render()\n",
        "\n",
        "    if np.random.uniform(0, 1) < epsilon:\n",
        "      action = env.action_space.sample()  \n",
        "    else:\n",
        "      action = np.argmax(Q[state, :])\n",
        "\n",
        "    next_state, reward, done, _ = env.step(action)\n",
        "\n",
        "    Q[state, action] = Q[state, action] + LEARNING_RATE * (reward + GAMMA * np.max(Q[next_state, :]) - Q[state, action])\n",
        "\n",
        "    state = next_state\n",
        "\n",
        "    if done: \n",
        "      rewards.append(reward)\n",
        "      epsilon -= 0.001\n",
        "      break  \n",
        "\n",
        "print(Q)\n",
        "print(f\"Average reward: {sum(rewards)/len(rewards)}:\")"
      ],
      "execution_count": 31,
      "outputs": [
        {
          "output_type": "stream",
          "text": [
            "[[3.57824901e-01 5.14548764e-02 5.02114305e-02 4.57632634e-02]\n",
            " [2.01921867e-03 1.18557718e-02 7.40568869e-03 1.49972734e-01]\n",
            " [2.23260062e-02 2.30817260e-02 9.10585292e-03 1.22550095e-01]\n",
            " [7.48481735e-03 1.59252648e-02 2.81092521e-04 1.09962881e-01]\n",
            " [4.42496211e-01 4.33683590e-02 2.53753711e-03 1.61195617e-02]\n",
            " [0.00000000e+00 0.00000000e+00 0.00000000e+00 0.00000000e+00]\n",
            " [4.88293028e-03 1.32982499e-04 1.99388839e-04 8.31512231e-06]\n",
            " [0.00000000e+00 0.00000000e+00 0.00000000e+00 0.00000000e+00]\n",
            " [3.46490157e-02 3.64042967e-03 2.35478840e-02 5.66081837e-01]\n",
            " [8.79133115e-04 2.46091450e-01 2.46474410e-02 2.33466783e-02]\n",
            " [7.94176027e-01 6.55407333e-03 6.23905088e-03 1.62630567e-03]\n",
            " [0.00000000e+00 0.00000000e+00 0.00000000e+00 0.00000000e+00]\n",
            " [0.00000000e+00 0.00000000e+00 0.00000000e+00 0.00000000e+00]\n",
            " [2.47401175e-02 7.13980431e-02 8.14306723e-01 3.23371354e-02]\n",
            " [1.97034463e-01 9.90339675e-01 2.06907184e-01 2.33219730e-01]\n",
            " [0.00000000e+00 0.00000000e+00 0.00000000e+00 0.00000000e+00]]\n",
            "Average reward: 0.332:\n"
          ],
          "name": "stdout"
        }
      ]
    }
  ]
}